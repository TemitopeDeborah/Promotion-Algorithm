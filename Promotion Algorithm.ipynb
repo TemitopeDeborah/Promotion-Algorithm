{
 "cells": [
  {
   "cell_type": "markdown",
   "id": "63133956-67f0-40c7-872b-e66476f73909",
   "metadata": {},
   "source": [
    "# Case Study: Yakubu Traiding Group - Algorithm Staff Promotion"
   ]
  },
  {
   "cell_type": "markdown",
   "id": "c0d54555-76fa-4666-b3ec-9594ce6e8368",
   "metadata": {},
   "source": [
    "### Objective: Study the pattern of promotion to understand the important features among available features that can be used to recommend promotion eligibility."
   ]
  },
  {
   "cell_type": "markdown",
   "id": "9d319f97-0a5d-4710-8365-5516534dd1a4",
   "metadata": {},
   "source": [
    "## 1. Importing and Exploring the data"
   ]
  },
  {
   "cell_type": "code",
   "execution_count": 1,
   "id": "acc49e73-bba8-44c9-aa16-265997a2b3f2",
   "metadata": {},
   "outputs": [],
   "source": [
    "# Importing libraries for data manipulation and visualization\n",
    "import pandas as pd \n",
    "import numpy as np\n",
    "import matplotlib.pyplot as plt\n",
    "import seaborn as sns\n",
    "\n",
    "# import libraries for model use and validation\n",
    "from sklearn.linear_model import LogisticRegression\n",
    "from sklearn.model_selection import train_test_split\n",
    "\n",
    "# import libraries for metrics and reporting\n",
    "from sklearn.metrics import confusion_matrix\n",
    "from sklearn.metrics import classification_report\n",
    "from sklearn.metrics import accuracy_score\n",
    "from sklearn.metrics import precision_score\n",
    "from sklearn.metrics import roc_curve\n",
    "from sklearn.metrics import recall_score\n",
    "from sklearn.metrics import f1_score\n",
    "from sklearn import metrics\n",
    "from sklearn.metrics import classification_report\n",
    "from sklearn.metrics import plot_confusion_matrix\n",
    "\n",
    "import warnings \n",
    "warnings.filterwarnings('ignore')\n",
    "# import libraries for model use and validation"
   ]
  },
  {
   "cell_type": "code",
   "execution_count": 2,
   "id": "de5d890c-2440-43e1-a732-9200ae336707",
   "metadata": {},
   "outputs": [],
   "source": [
    "# Loading the dataset\n",
    "df= pd.read_csv(\"promotion_dataset.csv\")"
   ]
  },
  {
   "cell_type": "code",
   "execution_count": 3,
   "id": "f6703787-727c-4305-b54e-5ab2c73ef7b2",
   "metadata": {},
   "outputs": [
    {
     "data": {
      "text/html": [
       "<div>\n",
       "<style scoped>\n",
       "    .dataframe tbody tr th:only-of-type {\n",
       "        vertical-align: middle;\n",
       "    }\n",
       "\n",
       "    .dataframe tbody tr th {\n",
       "        vertical-align: top;\n",
       "    }\n",
       "\n",
       "    .dataframe thead th {\n",
       "        text-align: right;\n",
       "    }\n",
       "</style>\n",
       "<table border=\"1\" class=\"dataframe\">\n",
       "  <thead>\n",
       "    <tr style=\"text-align: right;\">\n",
       "      <th></th>\n",
       "      <th>EmployeeNo</th>\n",
       "      <th>Division</th>\n",
       "      <th>Qualification</th>\n",
       "      <th>Gender</th>\n",
       "      <th>Channel_of_Recruitment</th>\n",
       "      <th>Trainings_Attended</th>\n",
       "      <th>Year_of_birth</th>\n",
       "      <th>Last_performance_score</th>\n",
       "      <th>Year_of_recruitment</th>\n",
       "      <th>Targets_met</th>\n",
       "      <th>Previous_Award</th>\n",
       "      <th>Training_score_average</th>\n",
       "      <th>State_Of_Origin</th>\n",
       "      <th>Foreign_schooled</th>\n",
       "      <th>Marital_Status</th>\n",
       "      <th>Past_Disciplinary_Action</th>\n",
       "      <th>Previous_IntraDepartmental_Movement</th>\n",
       "      <th>No_of_previous_employers</th>\n",
       "      <th>Promoted_or_Not</th>\n",
       "    </tr>\n",
       "  </thead>\n",
       "  <tbody>\n",
       "    <tr>\n",
       "      <th>0</th>\n",
       "      <td>YAK/S/00001</td>\n",
       "      <td>Commercial Sales and Marketing</td>\n",
       "      <td>MSc  MBA and PhD</td>\n",
       "      <td>Female</td>\n",
       "      <td>Direct Internal process</td>\n",
       "      <td>2</td>\n",
       "      <td>1986</td>\n",
       "      <td>12.5</td>\n",
       "      <td>2011</td>\n",
       "      <td>1</td>\n",
       "      <td>0</td>\n",
       "      <td>41</td>\n",
       "      <td>ANAMBRA</td>\n",
       "      <td>No</td>\n",
       "      <td>Married</td>\n",
       "      <td>No</td>\n",
       "      <td>No</td>\n",
       "      <td>0</td>\n",
       "      <td>0</td>\n",
       "    </tr>\n",
       "    <tr>\n",
       "      <th>1</th>\n",
       "      <td>YAK/S/00002</td>\n",
       "      <td>Customer Support and Field Operations</td>\n",
       "      <td>First Degree or HND</td>\n",
       "      <td>Male</td>\n",
       "      <td>Agency and others</td>\n",
       "      <td>2</td>\n",
       "      <td>1991</td>\n",
       "      <td>12.5</td>\n",
       "      <td>2015</td>\n",
       "      <td>0</td>\n",
       "      <td>0</td>\n",
       "      <td>52</td>\n",
       "      <td>ANAMBRA</td>\n",
       "      <td>Yes</td>\n",
       "      <td>Married</td>\n",
       "      <td>No</td>\n",
       "      <td>No</td>\n",
       "      <td>0</td>\n",
       "      <td>0</td>\n",
       "    </tr>\n",
       "    <tr>\n",
       "      <th>2</th>\n",
       "      <td>YAK/S/00003</td>\n",
       "      <td>Commercial Sales and Marketing</td>\n",
       "      <td>First Degree or HND</td>\n",
       "      <td>Male</td>\n",
       "      <td>Direct Internal process</td>\n",
       "      <td>2</td>\n",
       "      <td>1987</td>\n",
       "      <td>7.5</td>\n",
       "      <td>2012</td>\n",
       "      <td>0</td>\n",
       "      <td>0</td>\n",
       "      <td>42</td>\n",
       "      <td>KATSINA</td>\n",
       "      <td>Yes</td>\n",
       "      <td>Married</td>\n",
       "      <td>No</td>\n",
       "      <td>No</td>\n",
       "      <td>0</td>\n",
       "      <td>0</td>\n",
       "    </tr>\n",
       "    <tr>\n",
       "      <th>3</th>\n",
       "      <td>YAK/S/00004</td>\n",
       "      <td>Commercial Sales and Marketing</td>\n",
       "      <td>First Degree or HND</td>\n",
       "      <td>Male</td>\n",
       "      <td>Agency and others</td>\n",
       "      <td>3</td>\n",
       "      <td>1982</td>\n",
       "      <td>2.5</td>\n",
       "      <td>2009</td>\n",
       "      <td>0</td>\n",
       "      <td>0</td>\n",
       "      <td>42</td>\n",
       "      <td>NIGER</td>\n",
       "      <td>Yes</td>\n",
       "      <td>Single</td>\n",
       "      <td>No</td>\n",
       "      <td>No</td>\n",
       "      <td>1</td>\n",
       "      <td>0</td>\n",
       "    </tr>\n",
       "    <tr>\n",
       "      <th>4</th>\n",
       "      <td>YAK/S/00006</td>\n",
       "      <td>Information and Strategy</td>\n",
       "      <td>First Degree or HND</td>\n",
       "      <td>Male</td>\n",
       "      <td>Direct Internal process</td>\n",
       "      <td>3</td>\n",
       "      <td>1990</td>\n",
       "      <td>7.5</td>\n",
       "      <td>2012</td>\n",
       "      <td>0</td>\n",
       "      <td>0</td>\n",
       "      <td>77</td>\n",
       "      <td>AKWA IBOM</td>\n",
       "      <td>Yes</td>\n",
       "      <td>Married</td>\n",
       "      <td>No</td>\n",
       "      <td>No</td>\n",
       "      <td>1</td>\n",
       "      <td>0</td>\n",
       "    </tr>\n",
       "  </tbody>\n",
       "</table>\n",
       "</div>"
      ],
      "text/plain": [
       "    EmployeeNo                               Division        Qualification  \\\n",
       "0  YAK/S/00001         Commercial Sales and Marketing     MSc  MBA and PhD   \n",
       "1  YAK/S/00002  Customer Support and Field Operations  First Degree or HND   \n",
       "2  YAK/S/00003         Commercial Sales and Marketing  First Degree or HND   \n",
       "3  YAK/S/00004         Commercial Sales and Marketing  First Degree or HND   \n",
       "4  YAK/S/00006               Information and Strategy  First Degree or HND   \n",
       "\n",
       "   Gender   Channel_of_Recruitment  Trainings_Attended  Year_of_birth  \\\n",
       "0  Female  Direct Internal process                   2           1986   \n",
       "1    Male        Agency and others                   2           1991   \n",
       "2    Male  Direct Internal process                   2           1987   \n",
       "3    Male        Agency and others                   3           1982   \n",
       "4    Male  Direct Internal process                   3           1990   \n",
       "\n",
       "   Last_performance_score  Year_of_recruitment  Targets_met  Previous_Award  \\\n",
       "0                    12.5                 2011            1               0   \n",
       "1                    12.5                 2015            0               0   \n",
       "2                     7.5                 2012            0               0   \n",
       "3                     2.5                 2009            0               0   \n",
       "4                     7.5                 2012            0               0   \n",
       "\n",
       "   Training_score_average State_Of_Origin Foreign_schooled Marital_Status  \\\n",
       "0                      41         ANAMBRA               No        Married   \n",
       "1                      52         ANAMBRA              Yes        Married   \n",
       "2                      42         KATSINA              Yes        Married   \n",
       "3                      42           NIGER              Yes         Single   \n",
       "4                      77       AKWA IBOM              Yes        Married   \n",
       "\n",
       "  Past_Disciplinary_Action Previous_IntraDepartmental_Movement  \\\n",
       "0                       No                                  No   \n",
       "1                       No                                  No   \n",
       "2                       No                                  No   \n",
       "3                       No                                  No   \n",
       "4                       No                                  No   \n",
       "\n",
       "   No_of_previous_employers  Promoted_or_Not  \n",
       "0                         0                0  \n",
       "1                         0                0  \n",
       "2                         0                0  \n",
       "3                         1                0  \n",
       "4                         1                0  "
      ]
     },
     "execution_count": 3,
     "metadata": {},
     "output_type": "execute_result"
    }
   ],
   "source": [
    "df.head()"
   ]
  },
  {
   "cell_type": "code",
   "execution_count": 4,
   "id": "6f4c3830-ecac-4e8b-9b32-901fcebd5a6f",
   "metadata": {},
   "outputs": [
    {
     "name": "stdout",
     "output_type": "stream",
     "text": [
      "<class 'pandas.core.frame.DataFrame'>\n",
      "RangeIndex: 38312 entries, 0 to 38311\n",
      "Data columns (total 19 columns):\n",
      " #   Column                               Non-Null Count  Dtype  \n",
      "---  ------                               --------------  -----  \n",
      " 0   EmployeeNo                           38312 non-null  object \n",
      " 1   Division                             38312 non-null  object \n",
      " 2   Qualification                        36633 non-null  object \n",
      " 3   Gender                               38312 non-null  object \n",
      " 4   Channel_of_Recruitment               38312 non-null  object \n",
      " 5   Trainings_Attended                   38312 non-null  int64  \n",
      " 6   Year_of_birth                        38312 non-null  int64  \n",
      " 7   Last_performance_score               38312 non-null  float64\n",
      " 8   Year_of_recruitment                  38312 non-null  int64  \n",
      " 9   Targets_met                          38312 non-null  int64  \n",
      " 10  Previous_Award                       38312 non-null  int64  \n",
      " 11  Training_score_average               38312 non-null  int64  \n",
      " 12  State_Of_Origin                      38312 non-null  object \n",
      " 13  Foreign_schooled                     38312 non-null  object \n",
      " 14  Marital_Status                       38312 non-null  object \n",
      " 15  Past_Disciplinary_Action             38312 non-null  object \n",
      " 16  Previous_IntraDepartmental_Movement  38312 non-null  object \n",
      " 17  No_of_previous_employers             38312 non-null  int64  \n",
      " 18  Promoted_or_Not                      38312 non-null  int64  \n",
      "dtypes: float64(1), int64(8), object(10)\n",
      "memory usage: 5.6+ MB\n"
     ]
    }
   ],
   "source": [
    "# Overview of the data\n",
    "df.info()"
   ]
  },
  {
   "cell_type": "code",
   "execution_count": 5,
   "id": "151d52c1-5022-4ce1-b4ef-7ea6ae99e869",
   "metadata": {},
   "outputs": [
    {
     "name": "stdout",
     "output_type": "stream",
     "text": [
      "There are 19 columns and 38312 rows in the dataset\n"
     ]
    }
   ],
   "source": [
    "# no of rows and colums\n",
    "df.shape\n",
    "print(f'There are {df.shape[1]} columns and {df.shape[0]} rows in the dataset')"
   ]
  },
  {
   "cell_type": "code",
   "execution_count": 6,
   "id": "53fa587f-db44-47cb-afc6-be2ddc1f2a75",
   "metadata": {},
   "outputs": [
    {
     "data": {
      "text/html": [
       "<div>\n",
       "<style scoped>\n",
       "    .dataframe tbody tr th:only-of-type {\n",
       "        vertical-align: middle;\n",
       "    }\n",
       "\n",
       "    .dataframe tbody tr th {\n",
       "        vertical-align: top;\n",
       "    }\n",
       "\n",
       "    .dataframe thead th {\n",
       "        text-align: right;\n",
       "    }\n",
       "</style>\n",
       "<table border=\"1\" class=\"dataframe\">\n",
       "  <thead>\n",
       "    <tr style=\"text-align: right;\">\n",
       "      <th></th>\n",
       "      <th>Trainings_Attended</th>\n",
       "      <th>Year_of_birth</th>\n",
       "      <th>Last_performance_score</th>\n",
       "      <th>Year_of_recruitment</th>\n",
       "      <th>Targets_met</th>\n",
       "      <th>Previous_Award</th>\n",
       "      <th>Training_score_average</th>\n",
       "      <th>No_of_previous_employers</th>\n",
       "      <th>Promoted_or_Not</th>\n",
       "    </tr>\n",
       "  </thead>\n",
       "  <tbody>\n",
       "    <tr>\n",
       "      <th>count</th>\n",
       "      <td>38312.000000</td>\n",
       "      <td>38312.000000</td>\n",
       "      <td>38312.000000</td>\n",
       "      <td>38312.000000</td>\n",
       "      <td>38312.000000</td>\n",
       "      <td>38312.000000</td>\n",
       "      <td>38312.000000</td>\n",
       "      <td>38312.000000</td>\n",
       "      <td>38312.000000</td>\n",
       "    </tr>\n",
       "    <tr>\n",
       "      <th>mean</th>\n",
       "      <td>2.253680</td>\n",
       "      <td>1986.209334</td>\n",
       "      <td>7.698959</td>\n",
       "      <td>2013.139695</td>\n",
       "      <td>0.352996</td>\n",
       "      <td>0.023152</td>\n",
       "      <td>55.366465</td>\n",
       "      <td>1.040953</td>\n",
       "      <td>0.084595</td>\n",
       "    </tr>\n",
       "    <tr>\n",
       "      <th>std</th>\n",
       "      <td>0.609443</td>\n",
       "      <td>7.646047</td>\n",
       "      <td>3.744135</td>\n",
       "      <td>4.261451</td>\n",
       "      <td>0.477908</td>\n",
       "      <td>0.150388</td>\n",
       "      <td>13.362741</td>\n",
       "      <td>1.235738</td>\n",
       "      <td>0.278282</td>\n",
       "    </tr>\n",
       "    <tr>\n",
       "      <th>min</th>\n",
       "      <td>2.000000</td>\n",
       "      <td>1950.000000</td>\n",
       "      <td>0.000000</td>\n",
       "      <td>1982.000000</td>\n",
       "      <td>0.000000</td>\n",
       "      <td>0.000000</td>\n",
       "      <td>31.000000</td>\n",
       "      <td>0.000000</td>\n",
       "      <td>0.000000</td>\n",
       "    </tr>\n",
       "    <tr>\n",
       "      <th>25%</th>\n",
       "      <td>2.000000</td>\n",
       "      <td>1982.000000</td>\n",
       "      <td>5.000000</td>\n",
       "      <td>2012.000000</td>\n",
       "      <td>0.000000</td>\n",
       "      <td>0.000000</td>\n",
       "      <td>43.000000</td>\n",
       "      <td>0.000000</td>\n",
       "      <td>0.000000</td>\n",
       "    </tr>\n",
       "    <tr>\n",
       "      <th>50%</th>\n",
       "      <td>2.000000</td>\n",
       "      <td>1988.000000</td>\n",
       "      <td>7.500000</td>\n",
       "      <td>2014.000000</td>\n",
       "      <td>0.000000</td>\n",
       "      <td>0.000000</td>\n",
       "      <td>52.000000</td>\n",
       "      <td>1.000000</td>\n",
       "      <td>0.000000</td>\n",
       "    </tr>\n",
       "    <tr>\n",
       "      <th>75%</th>\n",
       "      <td>2.000000</td>\n",
       "      <td>1992.000000</td>\n",
       "      <td>10.000000</td>\n",
       "      <td>2016.000000</td>\n",
       "      <td>1.000000</td>\n",
       "      <td>0.000000</td>\n",
       "      <td>68.000000</td>\n",
       "      <td>1.000000</td>\n",
       "      <td>0.000000</td>\n",
       "    </tr>\n",
       "    <tr>\n",
       "      <th>max</th>\n",
       "      <td>11.000000</td>\n",
       "      <td>2001.000000</td>\n",
       "      <td>12.500000</td>\n",
       "      <td>2018.000000</td>\n",
       "      <td>1.000000</td>\n",
       "      <td>1.000000</td>\n",
       "      <td>91.000000</td>\n",
       "      <td>6.000000</td>\n",
       "      <td>1.000000</td>\n",
       "    </tr>\n",
       "  </tbody>\n",
       "</table>\n",
       "</div>"
      ],
      "text/plain": [
       "       Trainings_Attended  Year_of_birth  Last_performance_score  \\\n",
       "count        38312.000000   38312.000000            38312.000000   \n",
       "mean             2.253680    1986.209334                7.698959   \n",
       "std              0.609443       7.646047                3.744135   \n",
       "min              2.000000    1950.000000                0.000000   \n",
       "25%              2.000000    1982.000000                5.000000   \n",
       "50%              2.000000    1988.000000                7.500000   \n",
       "75%              2.000000    1992.000000               10.000000   \n",
       "max             11.000000    2001.000000               12.500000   \n",
       "\n",
       "       Year_of_recruitment   Targets_met  Previous_Award  \\\n",
       "count         38312.000000  38312.000000    38312.000000   \n",
       "mean           2013.139695      0.352996        0.023152   \n",
       "std               4.261451      0.477908        0.150388   \n",
       "min            1982.000000      0.000000        0.000000   \n",
       "25%            2012.000000      0.000000        0.000000   \n",
       "50%            2014.000000      0.000000        0.000000   \n",
       "75%            2016.000000      1.000000        0.000000   \n",
       "max            2018.000000      1.000000        1.000000   \n",
       "\n",
       "       Training_score_average  No_of_previous_employers  Promoted_or_Not  \n",
       "count            38312.000000              38312.000000     38312.000000  \n",
       "mean                55.366465                  1.040953         0.084595  \n",
       "std                 13.362741                  1.235738         0.278282  \n",
       "min                 31.000000                  0.000000         0.000000  \n",
       "25%                 43.000000                  0.000000         0.000000  \n",
       "50%                 52.000000                  1.000000         0.000000  \n",
       "75%                 68.000000                  1.000000         0.000000  \n",
       "max                 91.000000                  6.000000         1.000000  "
      ]
     },
     "execution_count": 6,
     "metadata": {},
     "output_type": "execute_result"
    }
   ],
   "source": [
    "# Overview of numerical columns\n",
    "df.describe()"
   ]
  },
  {
   "cell_type": "code",
   "execution_count": 7,
   "id": "015e892e-fd2a-44ec-b1c2-67dadeec8c80",
   "metadata": {},
   "outputs": [
    {
     "data": {
      "text/html": [
       "<div>\n",
       "<style scoped>\n",
       "    .dataframe tbody tr th:only-of-type {\n",
       "        vertical-align: middle;\n",
       "    }\n",
       "\n",
       "    .dataframe tbody tr th {\n",
       "        vertical-align: top;\n",
       "    }\n",
       "\n",
       "    .dataframe thead th {\n",
       "        text-align: right;\n",
       "    }\n",
       "</style>\n",
       "<table border=\"1\" class=\"dataframe\">\n",
       "  <thead>\n",
       "    <tr style=\"text-align: right;\">\n",
       "      <th></th>\n",
       "      <th>count</th>\n",
       "      <th>unique</th>\n",
       "      <th>top</th>\n",
       "      <th>freq</th>\n",
       "    </tr>\n",
       "  </thead>\n",
       "  <tbody>\n",
       "    <tr>\n",
       "      <th>EmployeeNo</th>\n",
       "      <td>38312</td>\n",
       "      <td>38312</td>\n",
       "      <td>YAK/S/00001</td>\n",
       "      <td>1</td>\n",
       "    </tr>\n",
       "    <tr>\n",
       "      <th>Division</th>\n",
       "      <td>38312</td>\n",
       "      <td>9</td>\n",
       "      <td>Commercial Sales and Marketing</td>\n",
       "      <td>11695</td>\n",
       "    </tr>\n",
       "    <tr>\n",
       "      <th>Qualification</th>\n",
       "      <td>36633</td>\n",
       "      <td>3</td>\n",
       "      <td>First Degree or HND</td>\n",
       "      <td>25578</td>\n",
       "    </tr>\n",
       "    <tr>\n",
       "      <th>Gender</th>\n",
       "      <td>38312</td>\n",
       "      <td>2</td>\n",
       "      <td>Male</td>\n",
       "      <td>26880</td>\n",
       "    </tr>\n",
       "    <tr>\n",
       "      <th>Channel_of_Recruitment</th>\n",
       "      <td>38312</td>\n",
       "      <td>3</td>\n",
       "      <td>Agency and others</td>\n",
       "      <td>21310</td>\n",
       "    </tr>\n",
       "    <tr>\n",
       "      <th>State_Of_Origin</th>\n",
       "      <td>38312</td>\n",
       "      <td>37</td>\n",
       "      <td>LAGOS</td>\n",
       "      <td>6204</td>\n",
       "    </tr>\n",
       "    <tr>\n",
       "      <th>Foreign_schooled</th>\n",
       "      <td>38312</td>\n",
       "      <td>2</td>\n",
       "      <td>Yes</td>\n",
       "      <td>34995</td>\n",
       "    </tr>\n",
       "    <tr>\n",
       "      <th>Marital_Status</th>\n",
       "      <td>38312</td>\n",
       "      <td>3</td>\n",
       "      <td>Married</td>\n",
       "      <td>31022</td>\n",
       "    </tr>\n",
       "    <tr>\n",
       "      <th>Past_Disciplinary_Action</th>\n",
       "      <td>38312</td>\n",
       "      <td>2</td>\n",
       "      <td>No</td>\n",
       "      <td>38161</td>\n",
       "    </tr>\n",
       "    <tr>\n",
       "      <th>Previous_IntraDepartmental_Movement</th>\n",
       "      <td>38312</td>\n",
       "      <td>2</td>\n",
       "      <td>No</td>\n",
       "      <td>34709</td>\n",
       "    </tr>\n",
       "  </tbody>\n",
       "</table>\n",
       "</div>"
      ],
      "text/plain": [
       "                                     count unique  \\\n",
       "EmployeeNo                           38312  38312   \n",
       "Division                             38312      9   \n",
       "Qualification                        36633      3   \n",
       "Gender                               38312      2   \n",
       "Channel_of_Recruitment               38312      3   \n",
       "State_Of_Origin                      38312     37   \n",
       "Foreign_schooled                     38312      2   \n",
       "Marital_Status                       38312      3   \n",
       "Past_Disciplinary_Action             38312      2   \n",
       "Previous_IntraDepartmental_Movement  38312      2   \n",
       "\n",
       "                                                                top   freq  \n",
       "EmployeeNo                                              YAK/S/00001      1  \n",
       "Division                             Commercial Sales and Marketing  11695  \n",
       "Qualification                                   First Degree or HND  25578  \n",
       "Gender                                                         Male  26880  \n",
       "Channel_of_Recruitment                            Agency and others  21310  \n",
       "State_Of_Origin                                               LAGOS   6204  \n",
       "Foreign_schooled                                                Yes  34995  \n",
       "Marital_Status                                              Married  31022  \n",
       "Past_Disciplinary_Action                                         No  38161  \n",
       "Previous_IntraDepartmental_Movement                              No  34709  "
      ]
     },
     "execution_count": 7,
     "metadata": {},
     "output_type": "execute_result"
    }
   ],
   "source": [
    "# Overview of categorical columns\n",
    "df.describe(include=['object']).T"
   ]
  },
  {
   "cell_type": "markdown",
   "id": "3019e12d-0c31-4b9b-8d97-d05d9504c339",
   "metadata": {},
   "source": [
    "### Observations\n",
    "#### * Most of the staffs in the company are male and are married. \n",
    "#### * Most of the staffs in the company has attained the qualification of first degree or HND.\n",
    "#### * The state of origin for most of the staffs is Lagos.\n",
    "#### * A fewer numbers of staffs had been involved in past disciplinary actions and previous intradepartment movement."
   ]
  },
  {
   "cell_type": "markdown",
   "id": "431c43b3-557e-4bff-b0ec-038ab164ef96",
   "metadata": {},
   "source": [
    "## 2. Data Cleaning and Preparation"
   ]
  },
  {
   "cell_type": "code",
   "execution_count": 8,
   "id": "30c6c32c-4cd8-40d2-9179-33a1e805578b",
   "metadata": {},
   "outputs": [
    {
     "data": {
      "text/plain": [
       "EmployeeNo                                0\n",
       "Division                                  0\n",
       "Qualification                          1679\n",
       "Gender                                    0\n",
       "Channel_of_Recruitment                    0\n",
       "Trainings_Attended                        0\n",
       "Year_of_birth                             0\n",
       "Last_performance_score                    0\n",
       "Year_of_recruitment                       0\n",
       "Targets_met                               0\n",
       "Previous_Award                            0\n",
       "Training_score_average                    0\n",
       "State_Of_Origin                           0\n",
       "Foreign_schooled                          0\n",
       "Marital_Status                            0\n",
       "Past_Disciplinary_Action                  0\n",
       "Previous_IntraDepartmental_Movement       0\n",
       "No_of_previous_employers                  0\n",
       "Promoted_or_Not                           0\n",
       "dtype: int64"
      ]
     },
     "execution_count": 8,
     "metadata": {},
     "output_type": "execute_result"
    }
   ],
   "source": [
    "# check for missing values\n",
    "df.isnull().sum()"
   ]
  },
  {
   "cell_type": "code",
   "execution_count": 9,
   "id": "7ccba62a-6934-4f97-9ceb-82901cc1f93e",
   "metadata": {},
   "outputs": [],
   "source": [
    "# fill missing values\n",
    "df['Qualification'].fillna(df['Qualification'].mode()[0], inplace = True)"
   ]
  },
  {
   "cell_type": "code",
   "execution_count": 10,
   "id": "51d5f209-3e0f-4c9e-b413-67339d53ead9",
   "metadata": {},
   "outputs": [
    {
     "data": {
      "text/plain": [
       "EmployeeNo                             0\n",
       "Division                               0\n",
       "Qualification                          0\n",
       "Gender                                 0\n",
       "Channel_of_Recruitment                 0\n",
       "Trainings_Attended                     0\n",
       "Year_of_birth                          0\n",
       "Last_performance_score                 0\n",
       "Year_of_recruitment                    0\n",
       "Targets_met                            0\n",
       "Previous_Award                         0\n",
       "Training_score_average                 0\n",
       "State_Of_Origin                        0\n",
       "Foreign_schooled                       0\n",
       "Marital_Status                         0\n",
       "Past_Disciplinary_Action               0\n",
       "Previous_IntraDepartmental_Movement    0\n",
       "No_of_previous_employers               0\n",
       "Promoted_or_Not                        0\n",
       "dtype: int64"
      ]
     },
     "execution_count": 10,
     "metadata": {},
     "output_type": "execute_result"
    }
   ],
   "source": [
    "# Check if missing values is filled\n",
    "df.isnull().sum()"
   ]
  },
  {
   "cell_type": "code",
   "execution_count": 11,
   "id": "791ae398-7e96-4774-bc56-32b22091ed23",
   "metadata": {},
   "outputs": [
    {
     "data": {
      "text/plain": [
       "False"
      ]
     },
     "execution_count": 11,
     "metadata": {},
     "output_type": "execute_result"
    }
   ],
   "source": [
    "# Checking duplicate values\n",
    "df.duplicated().any()"
   ]
  },
  {
   "cell_type": "markdown",
   "id": "07e7cbae-8063-4726-84fc-ba699e0b8754",
   "metadata": {},
   "source": [
    "#### Since the promotion of staffs is considered bias and skewed, a new condition is created for staff promotion using variables 'Trainings_Attended', 'Training_score_average', 'Targets_met' and 'Last_performance_score'. All this variables shows the performance and productivity level of the staff in the company and their quest to improve themselves through training.   "
   ]
  },
  {
   "cell_type": "code",
   "execution_count": 12,
   "id": "1ab37e3b-4fb8-4eef-b029-38bda5eb40bd",
   "metadata": {},
   "outputs": [],
   "source": [
    "# define conditions\n",
    "conditions = [\n",
    "    (df['Trainings_Attended'] >= 2) & (df['Training_score_average'] >= 52) & (df['Targets_met'] == 1) & (df['Last_performance_score'] >=7.5),\n",
    "    (df['Trainings_Attended'] < 2) & (df['Training_score_average'] < 52) & (df['Targets_met'] == 0) & (df['Last_performance_score'] <7.5)\n",
    "]\n",
    "\n",
    "# define results \n",
    "results = [1, 0]\n",
    "\n",
    "# create new column based on condition and results\n",
    "df['Expected_Promotion'] = np.select(conditions, results)"
   ]
  },
  {
   "cell_type": "markdown",
   "id": "1aa8866f-3865-4f77-b507-13d40d15124a",
   "metadata": {},
   "source": [
    "## 3. Exploratory Data Analysis"
   ]
  },
  {
   "cell_type": "code",
   "execution_count": 13,
   "id": "6dd27136-bbe3-474e-9b22-5cf7feb35ce4",
   "metadata": {},
   "outputs": [
    {
     "data": {
      "image/png": "[encoded data removed]",
      "text/plain": [
       "<Figure size 1008x576 with 1 Axes>"
      ]
     },
     "metadata": {
      "needs_background": "light"
     },
     "output_type": "display_data"
    }
   ],
   "source": [
    "# Plotting Count of Qualification\n",
    "plt.figure(figsize=(14, 8))\n",
    "sns.countplot(x='Qualification', data=df, palette='Set1')\n",
    "plt.title('Count of Qualification')\n",
    "plt.xlabel('Qualification')\n",
    "plt.ylabel('Employee')\n",
    "plt.show()"
   ]
  },
  {
   "cell_type": "code",
   "execution_count": 14,
   "id": "7de866ea-1ce8-44e9-b892-f38305e6c0c6",
   "metadata": {},
   "outputs": [
    {
     "data": {
      "image/png": "[encoded data removed]",
      "text/plain": [
       "<Figure size 432x432 with 1 Axes>"
      ]
     },
     "metadata": {},
     "output_type": "display_data"
    }
   ],
   "source": [
    "df['Promoted_or_Not'].value_counts().plot.pie(figsize=(6,6),title=\"Distribution of Promotion\",labels=['',''],autopct='%1.1f%%')\n",
    "labels=[\"Not Promoted\",\"Promoted\"]\n",
    "plt.legend(labels,loc=3)\n",
    "plt.gca().set_aspect('equal')"
   ]
  },
  {
   "cell_type": "markdown",
   "id": "7125b59a-7d18-4cc7-b8a0-06dccbe09ff9",
   "metadata": {},
   "source": [
    "#### 91.5% of the staffs were not promoted while only 8.5% of the total staffs were promoted."
   ]
  },
  {
   "cell_type": "code",
   "execution_count": 15,
   "id": "28c4265f-ca44-41c0-bb92-1bdaa1b788b5",
   "metadata": {},
   "outputs": [
    {
     "data": {
      "image/png": "[encoded data removed]",
      "text/plain": [
       "<Figure size 432x432 with 1 Axes>"
      ]
     },
     "metadata": {},
     "output_type": "display_data"
    }
   ],
   "source": [
    "df['Expected_Promotion'].value_counts().plot.pie(figsize=(6,6), title=\"Distribution of Expected Promotion\",labels=['',''],autopct='%1.1f%%')\n",
    "labels=[\"Not Promoted\",\"Promoted\"]\n",
    "plt.legend(labels,loc=3)\n",
    "plt.gca().set_aspect('equal')"
   ]
  },
  {
   "cell_type": "markdown",
   "id": "de006c23-df1f-47c6-8661-f18118249a60",
   "metadata": {},
   "source": [
    "#### Based on the new criteria for promotion 17.5% of staffs qualify for promotion"
   ]
  },
  {
   "cell_type": "code",
   "execution_count": 16,
   "id": "0be0bf35-9ee9-474d-9686-32de80681199",
   "metadata": {},
   "outputs": [
    {
     "data": {
      "text/plain": [
       "<Figure size 864x720 with 0 Axes>"
      ]
     },
     "metadata": {},
     "output_type": "display_data"
    },
    {
     "data": {
      "image/png": "[encoded data removed]",
      "text/plain": [
       "<Figure size 432.125x360 with 1 Axes>"
      ]
     },
     "metadata": {
      "needs_background": "light"
     },
     "output_type": "display_data"
    }
   ],
   "source": [
    "# Gender distribution of promotion\n",
    "plt.figure(figsize=(12, 10))\n",
    "sns.catplot(x='Promoted_or_Not', hue='Gender', kind='count', data=df, palette='Set1')\n",
    "plt.show()"
   ]
  },
  {
   "cell_type": "code",
   "execution_count": 17,
   "id": "755b741f-503e-496c-83a2-2473a9ef12c5",
   "metadata": {},
   "outputs": [
    {
     "data": {
      "text/plain": [
       "<Figure size 864x720 with 0 Axes>"
      ]
     },
     "metadata": {},
     "output_type": "display_data"
    },
    {
     "data": {
      "image/png": "[encoded data removed]",
      "text/plain": [
       "<Figure size 441x360 with 1 Axes>"
      ]
     },
     "metadata": {
      "needs_background": "light"
     },
     "output_type": "display_data"
    }
   ],
   "source": [
    "# Marital status distribution of promotion\n",
    "plt.figure(figsize=(12, 10))\n",
    "sns.catplot(x='Promoted_or_Not', hue='Marital_Status', kind='count', data=df, palette='Set1')\n",
    "plt.show()"
   ]
  },
  {
   "cell_type": "code",
   "execution_count": 18,
   "id": "54ca6424-2de9-4581-8094-6933ec4d6832",
   "metadata": {},
   "outputs": [
    {
     "data": {
      "text/plain": [
       "<Figure size 864x720 with 0 Axes>"
      ]
     },
     "metadata": {},
     "output_type": "display_data"
    },
    {
     "data": {
      "image/png": "[encoded data removed]",
      "text/plain": [
       "<Figure size 428.75x360 with 1 Axes>"
      ]
     },
     "metadata": {
      "needs_background": "light"
     },
     "output_type": "display_data"
    }
   ],
   "source": [
    "# Target met distribution of promotion\n",
    "plt.figure(figsize=(12, 10))\n",
    "sns.catplot(x='Promoted_or_Not', hue='Targets_met', kind='count', data=df, palette='Set1')\n",
    "plt.show()"
   ]
  },
  {
   "cell_type": "code",
   "execution_count": 19,
   "id": "d80a8337-8942-47be-bc91-5d4d9af9dd93",
   "metadata": {},
   "outputs": [
    {
     "data": {
      "text/plain": [
       "<Figure size 864x720 with 0 Axes>"
      ]
     },
     "metadata": {},
     "output_type": "display_data"
    },
    {
     "data": {
      "image/png": "[encoded data removed]",
      "text/plain": [
       "<Figure size 446.375x360 with 1 Axes>"
      ]
     },
     "metadata": {
      "needs_background": "light"
     },
     "output_type": "display_data"
    }
   ],
   "source": [
    "# Previous award distribution of promotion\n",
    "plt.figure(figsize=(12, 10))\n",
    "sns.catplot(x='Promoted_or_Not', hue='Previous_Award', kind='count', data=df, palette='Set1')\n",
    "plt.show()"
   ]
  },
  {
   "cell_type": "code",
   "execution_count": 20,
   "id": "09bca8e2-b885-49d4-afa1-040cf5f217e7",
   "metadata": {},
   "outputs": [
    {
     "data": {
      "image/png": "[encoded data removed]",
      "text/plain": [
       "<Figure size 1008x576 with 1 Axes>"
      ]
     },
     "metadata": {
      "needs_background": "light"
     },
     "output_type": "display_data"
    }
   ],
   "source": [
    "# Promotion count by division\n",
    "plt.figure(figsize=(14, 8))\n",
    "sns.countplot(x='Division', data=df, palette='Set1')\n",
    "plt.title('Promotion count by Division')\n",
    "plt.xlabel('Division')\n",
    "plt.ylabel('Employee')\n",
    "plt.xticks(rotation=90)\n",
    "plt.show()"
   ]
  },
  {
   "cell_type": "markdown",
   "id": "0a4edef8-ef03-4c08-8a37-d24d58296515",
   "metadata": {},
   "source": [
    "#### The division having the highest number of staffs is 'Commercial sales and marketing' while the division with the least number of staffs is 'Research and Innovation'. "
   ]
  },
  {
   "cell_type": "code",
   "execution_count": 21,
   "id": "b2758626-3850-4e5c-9c12-a38edf24b641",
   "metadata": {},
   "outputs": [
    {
     "data": {
      "image/png": "[encoded data removed]",
      "text/plain": [
       "<Figure size 864x432 with 1 Axes>"
      ]
     },
     "metadata": {
      "needs_background": "light"
     },
     "output_type": "display_data"
    }
   ],
   "source": [
    "p= df.groupby(['Division','Promoted_or_Not'])['Promoted_or_Not'].count().unstack().fillna(0)\n",
    "p['%']=p[1]/(p[0]+p[1])\n",
    "plt.figure(figsize=(12,6))\n",
    "plt.plot(p['%'], color='goldenrod', linewidth=2.5)\n",
    "plt.grid(color='black', linestyle= '-', linewidth= 0.5)\n",
    "plt.title('Division wise Promotion Rates')\n",
    "plt.xlabel('Division')\n",
    "plt.ylabel('% of staffs promoted')\n",
    "plt.xticks(rotation=90)\n",
    "plt.show() "
   ]
  },
  {
   "cell_type": "markdown",
   "id": "c45cb5e0-f433-4803-b863-190b6f3963a7",
   "metadata": {},
   "source": [
    "#### The division with the highest number of staffs promoted is 'Information technology and solution support' while the division with the least number of staffs promoted is 'Regulatory and legal services'. "
   ]
  },
  {
   "cell_type": "markdown",
   "id": "09636995-ccbb-4c1e-8154-e09e890a2ca0",
   "metadata": {},
   "source": [
    "#### Correlation Matrix"
   ]
  },
  {
   "cell_type": "code",
   "execution_count": 22,
   "id": "1d9e489b-51d8-4d2e-a60e-8638bc187c54",
   "metadata": {},
   "outputs": [
    {
     "data": {
      "text/html": [
       "<div>\n",
       "<style scoped>\n",
       "    .dataframe tbody tr th:only-of-type {\n",
       "        vertical-align: middle;\n",
       "    }\n",
       "\n",
       "    .dataframe tbody tr th {\n",
       "        vertical-align: top;\n",
       "    }\n",
       "\n",
       "    .dataframe thead th {\n",
       "        text-align: right;\n",
       "    }\n",
       "</style>\n",
       "<table border=\"1\" class=\"dataframe\">\n",
       "  <thead>\n",
       "    <tr style=\"text-align: right;\">\n",
       "      <th></th>\n",
       "      <th>Trainings_Attended</th>\n",
       "      <th>Year_of_birth</th>\n",
       "      <th>Last_performance_score</th>\n",
       "      <th>Year_of_recruitment</th>\n",
       "      <th>Targets_met</th>\n",
       "      <th>Previous_Award</th>\n",
       "      <th>Training_score_average</th>\n",
       "      <th>No_of_previous_employers</th>\n",
       "      <th>Promoted_or_Not</th>\n",
       "      <th>Expected_Promotion</th>\n",
       "    </tr>\n",
       "  </thead>\n",
       "  <tbody>\n",
       "    <tr>\n",
       "      <th>Trainings_Attended</th>\n",
       "      <td>1.000000</td>\n",
       "      <td>0.078710</td>\n",
       "      <td>-0.062042</td>\n",
       "      <td>0.056215</td>\n",
       "      <td>-0.044789</td>\n",
       "      <td>-0.007409</td>\n",
       "      <td>0.041065</td>\n",
       "      <td>0.000796</td>\n",
       "      <td>-0.024345</td>\n",
       "      <td>-0.000133</td>\n",
       "    </tr>\n",
       "    <tr>\n",
       "      <th>Year_of_birth</th>\n",
       "      <td>0.078710</td>\n",
       "      <td>1.000000</td>\n",
       "      <td>-0.175572</td>\n",
       "      <td>0.654666</td>\n",
       "      <td>0.025337</td>\n",
       "      <td>0.013627</td>\n",
       "      <td>0.048390</td>\n",
       "      <td>-0.003117</td>\n",
       "      <td>0.017991</td>\n",
       "      <td>-0.015657</td>\n",
       "    </tr>\n",
       "    <tr>\n",
       "      <th>Last_performance_score</th>\n",
       "      <td>-0.062042</td>\n",
       "      <td>-0.175572</td>\n",
       "      <td>1.000000</td>\n",
       "      <td>-0.190333</td>\n",
       "      <td>0.276350</td>\n",
       "      <td>0.026587</td>\n",
       "      <td>0.057836</td>\n",
       "      <td>-0.005428</td>\n",
       "      <td>0.119690</td>\n",
       "      <td>0.335514</td>\n",
       "    </tr>\n",
       "    <tr>\n",
       "      <th>Year_of_recruitment</th>\n",
       "      <td>0.056215</td>\n",
       "      <td>0.654666</td>\n",
       "      <td>-0.190333</td>\n",
       "      <td>1.000000</td>\n",
       "      <td>0.076910</td>\n",
       "      <td>0.041995</td>\n",
       "      <td>0.037477</td>\n",
       "      <td>-0.003550</td>\n",
       "      <td>0.012287</td>\n",
       "      <td>0.000938</td>\n",
       "    </tr>\n",
       "    <tr>\n",
       "      <th>Targets_met</th>\n",
       "      <td>-0.044789</td>\n",
       "      <td>0.025337</td>\n",
       "      <td>0.276350</td>\n",
       "      <td>0.076910</td>\n",
       "      <td>1.000000</td>\n",
       "      <td>0.092934</td>\n",
       "      <td>0.077201</td>\n",
       "      <td>-0.003308</td>\n",
       "      <td>0.224518</td>\n",
       "      <td>0.623613</td>\n",
       "    </tr>\n",
       "    <tr>\n",
       "      <th>Previous_Award</th>\n",
       "      <td>-0.007409</td>\n",
       "      <td>0.013627</td>\n",
       "      <td>0.026587</td>\n",
       "      <td>0.041995</td>\n",
       "      <td>0.092934</td>\n",
       "      <td>1.000000</td>\n",
       "      <td>0.072360</td>\n",
       "      <td>0.003887</td>\n",
       "      <td>0.201434</td>\n",
       "      <td>0.064740</td>\n",
       "    </tr>\n",
       "    <tr>\n",
       "      <th>Training_score_average</th>\n",
       "      <td>0.041065</td>\n",
       "      <td>0.048390</td>\n",
       "      <td>0.057836</td>\n",
       "      <td>0.037477</td>\n",
       "      <td>0.077201</td>\n",
       "      <td>0.072360</td>\n",
       "      <td>1.000000</td>\n",
       "      <td>0.008194</td>\n",
       "      <td>0.178448</td>\n",
       "      <td>0.355623</td>\n",
       "    </tr>\n",
       "    <tr>\n",
       "      <th>No_of_previous_employers</th>\n",
       "      <td>0.000796</td>\n",
       "      <td>-0.003117</td>\n",
       "      <td>-0.005428</td>\n",
       "      <td>-0.003550</td>\n",
       "      <td>-0.003308</td>\n",
       "      <td>0.003887</td>\n",
       "      <td>0.008194</td>\n",
       "      <td>1.000000</td>\n",
       "      <td>0.001690</td>\n",
       "      <td>0.001855</td>\n",
       "    </tr>\n",
       "    <tr>\n",
       "      <th>Promoted_or_Not</th>\n",
       "      <td>-0.024345</td>\n",
       "      <td>0.017991</td>\n",
       "      <td>0.119690</td>\n",
       "      <td>0.012287</td>\n",
       "      <td>0.224518</td>\n",
       "      <td>0.201434</td>\n",
       "      <td>0.178448</td>\n",
       "      <td>0.001690</td>\n",
       "      <td>1.000000</td>\n",
       "      <td>0.178882</td>\n",
       "    </tr>\n",
       "    <tr>\n",
       "      <th>Expected_Promotion</th>\n",
       "      <td>-0.000133</td>\n",
       "      <td>-0.015657</td>\n",
       "      <td>0.335514</td>\n",
       "      <td>0.000938</td>\n",
       "      <td>0.623613</td>\n",
       "      <td>0.064740</td>\n",
       "      <td>0.355623</td>\n",
       "      <td>0.001855</td>\n",
       "      <td>0.178882</td>\n",
       "      <td>1.000000</td>\n",
       "    </tr>\n",
       "  </tbody>\n",
       "</table>\n",
       "</div>"
      ],
      "text/plain": [
       "                          Trainings_Attended  Year_of_birth  \\\n",
       "Trainings_Attended                  1.000000       0.078710   \n",
       "Year_of_birth                       0.078710       1.000000   \n",
       "Last_performance_score             -0.062042      -0.175572   \n",
       "Year_of_recruitment                 0.056215       0.654666   \n",
       "Targets_met                        -0.044789       0.025337   \n",
       "Previous_Award                     -0.007409       0.013627   \n",
       "Training_score_average              0.041065       0.048390   \n",
       "No_of_previous_employers            0.000796      -0.003117   \n",
       "Promoted_or_Not                    -0.024345       0.017991   \n",
       "Expected_Promotion                 -0.000133      -0.015657   \n",
       "\n",
       "                          Last_performance_score  Year_of_recruitment  \\\n",
       "Trainings_Attended                     -0.062042             0.056215   \n",
       "Year_of_birth                          -0.175572             0.654666   \n",
       "Last_performance_score                  1.000000            -0.190333   \n",
       "Year_of_recruitment                    -0.190333             1.000000   \n",
       "Targets_met                             0.276350             0.076910   \n",
       "Previous_Award                          0.026587             0.041995   \n",
       "Training_score_average                  0.057836             0.037477   \n",
       "No_of_previous_employers               -0.005428            -0.003550   \n",
       "Promoted_or_Not                         0.119690             0.012287   \n",
       "Expected_Promotion                      0.335514             0.000938   \n",
       "\n",
       "                          Targets_met  Previous_Award  Training_score_average  \\\n",
       "Trainings_Attended          -0.044789       -0.007409                0.041065   \n",
       "Year_of_birth                0.025337        0.013627                0.048390   \n",
       "Last_performance_score       0.276350        0.026587                0.057836   \n",
       "Year_of_recruitment          0.076910        0.041995                0.037477   \n",
       "Targets_met                  1.000000        0.092934                0.077201   \n",
       "Previous_Award               0.092934        1.000000                0.072360   \n",
       "Training_score_average       0.077201        0.072360                1.000000   \n",
       "No_of_previous_employers    -0.003308        0.003887                0.008194   \n",
       "Promoted_or_Not              0.224518        0.201434                0.178448   \n",
       "Expected_Promotion           0.623613        0.064740                0.355623   \n",
       "\n",
       "                          No_of_previous_employers  Promoted_or_Not  \\\n",
       "Trainings_Attended                        0.000796        -0.024345   \n",
       "Year_of_birth                            -0.003117         0.017991   \n",
       "Last_performance_score                   -0.005428         0.119690   \n",
       "Year_of_recruitment                      -0.003550         0.012287   \n",
       "Targets_met                              -0.003308         0.224518   \n",
       "Previous_Award                            0.003887         0.201434   \n",
       "Training_score_average                    0.008194         0.178448   \n",
       "No_of_previous_employers                  1.000000         0.001690   \n",
       "Promoted_or_Not                           0.001690         1.000000   \n",
       "Expected_Promotion                        0.001855         0.178882   \n",
       "\n",
       "                          Expected_Promotion  \n",
       "Trainings_Attended                 -0.000133  \n",
       "Year_of_birth                      -0.015657  \n",
       "Last_performance_score              0.335514  \n",
       "Year_of_recruitment                 0.000938  \n",
       "Targets_met                         0.623613  \n",
       "Previous_Award                      0.064740  \n",
       "Training_score_average              0.355623  \n",
       "No_of_previous_employers            0.001855  \n",
       "Promoted_or_Not                     0.178882  \n",
       "Expected_Promotion                  1.000000  "
      ]
     },
     "execution_count": 22,
     "metadata": {},
     "output_type": "execute_result"
    }
   ],
   "source": [
    "# Correlation between variables\n",
    "df.corr()"
   ]
  },
  {
   "cell_type": "code",
   "execution_count": 23,
   "id": "a3893049-42ec-4ccd-a816-4a5f9653bfa9",
   "metadata": {},
   "outputs": [
    {
     "data": {
      "image/png": "[encoded data removed]",
      "text/plain": [
       "<Figure size 432x288 with 2 Axes>"
      ]
     },
     "metadata": {
      "needs_background": "light"
     },
     "output_type": "display_data"
    }
   ],
   "source": [
    "# Heatmap visualization of the correlation\n",
    "dataplot=sns.heatmap(df.corr())\n",
    "plt.show()"
   ]
  },
  {
   "cell_type": "markdown",
   "id": "eb483fac-1da2-4567-aa0d-ab3955424b76",
   "metadata": {},
   "source": [
    "#### From the correlation, the variables that affects if an employee is promoted or not is Targets_met, Training_score_average, Previous_Award, Last_performance_score. "
   ]
  },
  {
   "cell_type": "markdown",
   "id": "e490eee2-c6c9-489a-84e0-6bc9064f91b5",
   "metadata": {},
   "source": [
    "## 4. Feature Selection"
   ]
  },
  {
   "cell_type": "code",
   "execution_count": 24,
   "id": "1b2ffd38-8495-4b52-aa03-ad87deab59d2",
   "metadata": {},
   "outputs": [],
   "source": [
    "feature_cols = ['Targets_met', 'Training_score_average', 'Previous_Award', 'Last_performance_score']\n",
    "X = df[feature_cols]\n",
    "y = df.Expected_Promotion"
   ]
  },
  {
   "cell_type": "markdown",
   "id": "9eb4aafc-62da-47bf-be05-661dc5fb4cfd",
   "metadata": {},
   "source": [
    "#### Splitting the dataset into training and test data"
   ]
  },
  {
   "cell_type": "code",
   "execution_count": 25,
   "id": "54821987-7490-4f31-8ec2-f4d65cfe7b58",
   "metadata": {},
   "outputs": [],
   "source": [
    "# split dataset in training and test dataset in proportions (60:40)\n",
    "X_train, X_test, y_train, y_test = train_test_split(X, y, test_size = 0.2, random_state = 42)"
   ]
  },
  {
   "cell_type": "code",
   "execution_count": 26,
   "id": "66e43012-fae5-4ede-b242-2e70140ffd22",
   "metadata": {},
   "outputs": [
    {
     "name": "stdout",
     "output_type": "stream",
     "text": [
      "(30649, 4)\n",
      "(7663, 4)\n",
      "(30649,)\n",
      "(7663,)\n"
     ]
    }
   ],
   "source": [
    "print(X_train.shape)\n",
    "print(X_test.shape)\n",
    "print(y_train.shape)\n",
    "print(y_test.shape)"
   ]
  },
  {
   "cell_type": "markdown",
   "id": "fd1c949c-5328-41d5-bfab-3028473b2e48",
   "metadata": {},
   "source": [
    "## 5. Model Training"
   ]
  },
  {
   "cell_type": "markdown",
   "id": "195f8f95-645d-4f64-a858-12516341a785",
   "metadata": {},
   "source": [
    "#### Creating the Model"
   ]
  },
  {
   "cell_type": "code",
   "execution_count": 27,
   "id": "b6347b7f-1eca-495c-8db5-e3192d790378",
   "metadata": {},
   "outputs": [],
   "source": [
    "# Instantiate the classifier\n",
    "model = LogisticRegression()"
   ]
  },
  {
   "cell_type": "code",
   "execution_count": 28,
   "id": "271e4572-f72e-4d99-a9fb-157e7b992fed",
   "metadata": {},
   "outputs": [
    {
     "data": {
      "text/plain": [
       "LogisticRegression()"
      ]
     },
     "execution_count": 28,
     "metadata": {},
     "output_type": "execute_result"
    }
   ],
   "source": [
    "# Train the classifier\n",
    "model.fit(X_train, y_train)"
   ]
  },
  {
   "cell_type": "markdown",
   "id": "c37cdda6-92b2-4779-84ec-082e79abf87c",
   "metadata": {},
   "source": [
    "#### Making Predictions"
   ]
  },
  {
   "cell_type": "code",
   "execution_count": 29,
   "id": "5df4bb88-9f19-4893-a44b-81d8675a3e2d",
   "metadata": {},
   "outputs": [],
   "source": [
    "# Predicting the class label\n",
    "y_pred = model.predict(X_test)"
   ]
  },
  {
   "cell_type": "markdown",
   "id": "235648a3-4c61-4d53-bf26-476eb13f4c46",
   "metadata": {},
   "source": [
    "#### Confusion Matrix"
   ]
  },
  {
   "cell_type": "code",
   "execution_count": 30,
   "id": "56483d38-080a-4cb2-9e87-67b2a8c78f68",
   "metadata": {},
   "outputs": [
    {
     "data": {
      "text/plain": [
       "array([[6099,  225],\n",
       "       [ 184, 1155]], dtype=int64)"
      ]
     },
     "execution_count": 30,
     "metadata": {},
     "output_type": "execute_result"
    }
   ],
   "source": [
    "metrics.confusion_matrix(y_test, y_pred)"
   ]
  },
  {
   "cell_type": "markdown",
   "id": "b4d6a172-8300-40de-92f9-2073d3834698",
   "metadata": {},
   "source": [
    "#### Accuracy Score"
   ]
  },
  {
   "cell_type": "code",
   "execution_count": 31,
   "id": "da37a192-a4bf-4c59-853b-1f7cb8f5d494",
   "metadata": {},
   "outputs": [
    {
     "data": {
      "text/plain": [
       "0.9466266475270781"
      ]
     },
     "execution_count": 31,
     "metadata": {},
     "output_type": "execute_result"
    }
   ],
   "source": [
    "metrics.accuracy_score(y_test, y_pred)"
   ]
  },
  {
   "cell_type": "markdown",
   "id": "e13974ee-be43-4109-b3e3-076cf20d843c",
   "metadata": {},
   "source": [
    "#### F1 Score"
   ]
  },
  {
   "cell_type": "code",
   "execution_count": 32,
   "id": "ea9751ee-06f0-43e5-ba25-753bc9cfcbe6",
   "metadata": {},
   "outputs": [
    {
     "data": {
      "text/plain": [
       "0.8495770503861715"
      ]
     },
     "execution_count": 32,
     "metadata": {},
     "output_type": "execute_result"
    }
   ],
   "source": [
    "metrics.f1_score(y_test, y_pred)"
   ]
  },
  {
   "cell_type": "markdown",
   "id": "2fc8cfb4-b3ab-4238-9648-81d3f7859de4",
   "metadata": {},
   "source": [
    "#### Roc_auc_score"
   ]
  },
  {
   "cell_type": "code",
   "execution_count": 33,
   "id": "e9368af6-c381-4d27-83f3-095b6a8e5dc6",
   "metadata": {},
   "outputs": [
    {
     "data": {
      "text/plain": [
       "0.9135026351478702"
      ]
     },
     "execution_count": 33,
     "metadata": {},
     "output_type": "execute_result"
    }
   ],
   "source": [
    "metrics.roc_auc_score(y_test, y_pred)"
   ]
  },
  {
   "cell_type": "markdown",
   "id": "3bd94c9a-8b6d-4c19-9a65-d78d79500359",
   "metadata": {},
   "source": [
    "#### Classification Report"
   ]
  },
  {
   "cell_type": "code",
   "execution_count": 34,
   "id": "d712cd59-dea5-45ab-b4a6-8eb0f7a648ce",
   "metadata": {},
   "outputs": [
    {
     "name": "stdout",
     "output_type": "stream",
     "text": [
      "              precision    recall  f1-score   support\n",
      "\n",
      "           0       0.97      0.96      0.97      6324\n",
      "           1       0.84      0.86      0.85      1339\n",
      "\n",
      "    accuracy                           0.95      7663\n",
      "   macro avg       0.90      0.91      0.91      7663\n",
      "weighted avg       0.95      0.95      0.95      7663\n",
      "\n"
     ]
    }
   ],
   "source": [
    "print(classification_report(y_test, y_pred))"
   ]
  },
  {
   "cell_type": "code",
   "execution_count": 35,
   "id": "21e2edf1-edb1-4862-8923-ff8120c874e8",
   "metadata": {},
   "outputs": [
    {
     "name": "stdout",
     "output_type": "stream",
     "text": [
      "[-30.66888255]\n",
      "[[11.62867488  0.2479297   0.0315417   0.55964744]]\n"
     ]
    }
   ],
   "source": [
    "print(model.intercept_)\n",
    "print(model.coef_)"
   ]
  },
  {
   "cell_type": "code",
   "execution_count": 36,
   "id": "4ca92de8-ac73-48de-81b2-7d024111c587",
   "metadata": {},
   "outputs": [
    {
     "data": {
      "text/plain": [
       "array([[9.99995995e-01, 4.00487788e-06],\n",
       "       [9.99999923e-01, 7.71573008e-08],\n",
       "       [9.99999840e-01, 1.59522681e-07],\n",
       "       ...,\n",
       "       [9.99620698e-01, 3.79301698e-04],\n",
       "       [9.99999398e-01, 6.02021870e-07],\n",
       "       [9.99999966e-01, 3.35688162e-08]])"
      ]
     },
     "execution_count": 36,
     "metadata": {},
     "output_type": "execute_result"
    }
   ],
   "source": [
    "model.predict_proba(X_test)"
   ]
  },
  {
   "cell_type": "code",
   "execution_count": null,
   "id": "db63bf38-a1f3-4b0a-b32b-0279d2b9b36e",
   "metadata": {},
   "outputs": [],
   "source": []
  }
 ],
 "metadata": {
  "kernelspec": {
   "display_name": "Python 3 (ipykernel)",
   "language": "python",
   "name": "python3"
  },
  "language_info": {
   "codemirror_mode": {
    "name": "ipython",
    "version": 3
   },
   "file_extension": ".py",
   "mimetype": "text/x-python",
   "name": "python",
   "nbconvert_exporter": "python",
   "pygments_lexer": "ipython3",
   "version": "3.9.12"
  }
 },
 "nbformat": 4,
 "nbformat_minor": 5
}
